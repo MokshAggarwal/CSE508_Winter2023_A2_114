{
 "cells": [
  {
   "cell_type": "code",
   "execution_count": 138,
   "id": "7841d92c",
   "metadata": {},
   "outputs": [],
   "source": [
    "import pandas as pd\n",
    "from tqdm import tqdm\n",
    "import math\n",
    "import matplotlib.pyplot as plt"
   ]
  },
  {
   "cell_type": "code",
   "execution_count": 90,
   "id": "6e0bba2a",
   "metadata": {},
   "outputs": [],
   "source": [
    "data = open(f\"../Q3/IR-assignment-2-data.txt\", 'r')"
   ]
  },
  {
   "cell_type": "code",
   "execution_count": 34,
   "id": "75af24d1",
   "metadata": {},
   "outputs": [],
   "source": [
    "x = data.readlines()"
   ]
  },
  {
   "cell_type": "code",
   "execution_count": 68,
   "id": "5e6e7875",
   "metadata": {},
   "outputs": [
    {
     "name": "stderr",
     "output_type": "stream",
     "text": [
      "239093it [02:13, 1787.85it/s]\n"
     ]
    }
   ],
   "source": [
    "pairs = []\n",
    "\n",
    "for i, url in tqdm(enumerate(x)):\n",
    "    spaces = []\n",
    "    for i in range(len(url)):\n",
    "        if url[i] == ' ':\n",
    "            spaces.append(i)\n",
    "    relevance = int(url[0 : spaces[0]])\n",
    "    qid = int(url[spaces[0] + 5 : spaces[1]])\n",
    "    if qid == 4:\n",
    "        pairs.append((relevance, i, url))\n"
   ]
  },
  {
   "cell_type": "code",
   "execution_count": 117,
   "id": "6374693b",
   "metadata": {},
   "outputs": [
    {
     "name": "stdout",
     "output_type": "stream",
     "text": [
      "Total query-url pairs with qid = 4 : 103\n"
     ]
    }
   ],
   "source": [
    "print(f\"Total query-url pairs with qid = 4 : {len(pairs)}\") # Total query-url pairs with qid = 4"
   ]
  },
  {
   "cell_type": "raw",
   "id": "8e7c6a27",
   "metadata": {},
   "source": [
    "def max_dcg_files(pairs):\n",
    "    sorted_pairs = sorted(pairs, key = lambda x : x[0], reverse = True) # Sorting url-query pairs in decreasing order of relevance\n",
    "    counts_relevance = {0 : 0, 1 : 0, 2 : 0, 3 : 0, 4 : 0} # Counts of urls with all possible relevance scores\n",
    "    file_data = [] # To store the sorted data to write in file\n",
    "    for url in sorted_pairs:\n",
    "        counts_relevance[url[0]] += 1\n",
    "        file_data.append(url[2])\n",
    "    print(f\"Num of URL's with relevance score : {counts_relevance}\")\n",
    "    file_name = \"max_dcg_sorted_file.txt\" # File with sorted pairs\n",
    "    with open(file_name, 'w') as f:\n",
    "        f.writelines(file_data)\n",
    "    max_num_files = 1 # To calculate all possible permutations of url-query sorted files\n",
    "    for count in counts_relevance.values():\n",
    "        max_num_files *= math.factorial(count)\n",
    "    print(f\"Number of files possible : {max_num_files}\")\n",
    "    return sorted_pairs"
   ]
  },
  {
   "cell_type": "code",
   "execution_count": 111,
   "id": "bb5a897d",
   "metadata": {},
   "outputs": [
    {
     "name": "stdout",
     "output_type": "stream",
     "text": [
      "Num of URL's with relevance score : {0: 59, 1: 26, 2: 17, 3: 1, 4: 0}\n",
      "Number of files possible : 19893497375938370599826047614905329896936840170566570588205180312704857992695193482412686565431050240000000000000000000000\n"
     ]
    }
   ],
   "source": [
    "sorted_pairs = max_dcg_files(pairs)"
   ]
  },
  {
   "cell_type": "code",
   "execution_count": 113,
   "id": "376566ce",
   "metadata": {},
   "outputs": [],
   "source": [
    "def DCG(pairs):\n",
    "    # Function to compute DCG value of given sorting of pairs\n",
    "    dcg_value = pairs[0][0]\n",
    "    for i in range(1, len(pairs)):\n",
    "        dcg_value += pairs[i][0] / math.log2(i + 1)\n",
    "    return dcg_value\n",
    "\n",
    "def nDCG(pairs, sorted_pairs, p):\n",
    "    dcg_p = DCG(pairs[:p])\n",
    "    idcg_p = DCG(sorted_pairs[:p])\n",
    "    ndcg_p = dcg_p / idcg_p\n",
    "    return ndcg_p"
   ]
  },
  {
   "cell_type": "code",
   "execution_count": 116,
   "id": "f7777e8b",
   "metadata": {},
   "outputs": [
    {
     "name": "stdout",
     "output_type": "stream",
     "text": [
      "nDCG at 50 : 0.3521042740324887\n",
      "nDCG for entire dataset : 0.5979226516897831\n"
     ]
    }
   ],
   "source": [
    "print(f\"nDCG at 50 : {nDCG(pairs, sorted_pairs, 50)}\")\n",
    "print(f\"nDCG for entire dataset : {nDCG(pairs, sorted_pairs, len(sorted_pairs))}\")"
   ]
  },
  {
   "cell_type": "code",
   "execution_count": 144,
   "id": "19acf568",
   "metadata": {},
   "outputs": [],
   "source": [
    "qu_pairs_feature75 = []\n",
    "\n",
    "for pair in pairs:\n",
    "    feature75_value = float(pair[2].split()[76].split(\":\")[1])\n",
    "    qu_pairs_feature75.append((pair[0], pair[1], feature75_value, pair[2]))"
   ]
  },
  {
   "cell_type": "code",
   "execution_count": 126,
   "id": "0e5bdd13",
   "metadata": {},
   "outputs": [],
   "source": [
    "ranked_qu_pairs_feature = sorted(qu_pairs_feature75, key = lambda x : x[2], reverse = True)"
   ]
  },
  {
   "cell_type": "code",
   "execution_count": 134,
   "id": "3bcf0c7c",
   "metadata": {},
   "outputs": [
    {
     "data": {
      "text/plain": [
       "(0,\n",
       " 1199,\n",
       " 972.826451,\n",
       " '0 qid:4 1:3 2:0 3:3 4:0 5:3 6:1 7:0 8:1 9:0 10:1 11:937 12:0 13:8 14:10 15:955 16:14.976692 17:28.949002 18:25.594644 19:28.531344 20:14.972391 21:194 22:0 23:3 24:0 25:197 26:63 27:0 28:1 29:0 30:64 31:66 32:0 33:1 34:0 35:67 36:64.666667 37:0 38:1 39:0 40:65.666667 41:1.555556 42:0 43:0 44:0 45:1.555556 46:0.207044 47:0 48:0.37500 49:0 50:0.206283 51:0.067236 52:0 53:0.12500 54:0 55:0.067016 56:0.070438 57:0 58:0.12500 59:0 60:0.070157 61:0.069015 62:0 63:0.12500 64:0 65:0.068761 66:0.000002 67:0 68:0 69:0 70:0.000002 71:958.127913 72:0 73:25.594644 74:0 75:972.826451 76:77.925852 77:0 78:4.687525 79:0 80:79.05829 81:520.938595 82:0 83:11.917884 84:0 85:529.002984 86:319.375971 87:0 88:8.531548 89:0 90:324.275484 91:33505.554515 92:0 93:8.817753 94:0 95:34561.412223 96:1 97:0 98:1 99:0 100:1 101:0.999883 102:0 103:1 104:0 105:0.999886 106:50.257657 107:0 108:24.568095 109:0 110:50.282174 111:-8.051425 112:-29.251906 113:-9.821387 114:-31.107208 115:-8.061919 116:-11.424251 117:-31.580405 118:-21.361632 119:-33.960286 120:-11.396778 121:-8.335691 122:-31.750477 123:-6.553014 124:-33.908554 125:-8.346711 126:2 127:51 128:766 129:0 130:119 131:32560 132:45 133:24 134:0 135:0 136:0 \\n')"
      ]
     },
     "execution_count": 134,
     "metadata": {},
     "output_type": "execute_result"
    }
   ],
   "source": [
    "ranked_qu_pairs_feature[0]"
   ]
  },
  {
   "cell_type": "code",
   "execution_count": 141,
   "id": "ee76281b",
   "metadata": {},
   "outputs": [],
   "source": [
    "precision_k = []\n",
    "recall_k = []\n",
    "total_relevant = 0\n",
    "relevant_k = 0\n",
    "\n",
    "for pair in ranked_qu_pairs_feature:\n",
    "    if pair[0] != 0:\n",
    "        total_relevant += 1\n",
    "\n",
    "for i in range(len(ranked_qu_pairs_feature)):\n",
    "    if ranked_qu_pairs_feature[i][0] != 0:\n",
    "        relevant_k += 1\n",
    "    p_k = relevant_k / (i + 1)\n",
    "    r_k = relevant_k / total_relevant\n",
    "    \n",
    "    precision_k.append(p_k)\n",
    "    recall_k.append(r_k)"
   ]
  },
  {
   "cell_type": "code",
   "execution_count": 143,
   "id": "eee5115a",
   "metadata": {},
   "outputs": [
    {
     "data": {
      "image/png": "[encoded data removed]",
      "text/plain": [
       "<Figure size 432x288 with 1 Axes>"
      ]
     },
     "metadata": {
      "needs_background": "light"
     },
     "output_type": "display_data"
    }
   ],
   "source": [
    "plt.plot(recall_k, precision_k)\n",
    "plt.ylabel(\"Precision\")\n",
    "plt.xlabel(\"Recall\")\n",
    "plt.title(\"Precision-Recall Curve\")\n",
    "plt.savefig('Precision_Recall_Curve.png', bbox_inches='tight', facecolor='white')\n",
    "plt.show()"
   ]
  },
  {
   "cell_type": "code",
   "execution_count": null,
   "id": "69622c6c",
   "metadata": {},
   "outputs": [],
   "source": []
  }
 ],
 "metadata": {
  "kernelspec": {
   "display_name": "Python 3",
   "language": "python",
   "name": "python3"
  },
  "language_info": {
   "codemirror_mode": {
    "name": "ipython",
    "version": 3
   },
   "file_extension": ".py",
   "mimetype": "text/x-python",
   "name": "python",
   "nbconvert_exporter": "python",
   "pygments_lexer": "ipython3",
   "version": "3.8.8"
  }
 },
 "nbformat": 4,
 "nbformat_minor": 5
}
